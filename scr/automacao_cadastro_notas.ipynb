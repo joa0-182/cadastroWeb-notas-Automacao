{
 "cells": [
  {
   "cell_type": "code",
   "execution_count": 5,
   "id": "a0f49bbc",
   "metadata": {},
   "outputs": [],
   "source": [
    "# Importando bibliotecas\n",
    "import pandas as pd\n",
    "import os\n",
    "import time\n",
    "\n",
    "# Selecionando os serviços\n",
    "from webdriver_manager.chrome import ChromeDriverManager\n",
    "from selenium import webdriver\n",
    "from selenium.webdriver.chrome.service import Service\n",
    "from selenium.webdriver.common.by import By\n",
    "from selenium.webdriver.support.ui import Select\n",
    "\n",
    "# Configuração para o Google aceitar download\n",
    "options = webdriver.ChromeOptions()\n",
    "options.add_experimental_option(\"prefs\", {\n",
    "    \"download.default_directory\": r\"C:\\fakepath\\cadastroWeb-notas-Automacao\\xml\",\n",
    "    \"download.prompt_for_download\": False,\n",
    "    \"download.directory_upgrade\": True,\n",
    "    \"safebrowsing.enabled\": True\n",
    "})\n",
    "\n",
    "# Iniciando o navegador\n",
    "servico = Service(ChromeDriverManager().install())\n",
    "navegador = webdriver.Chrome(service=servico, options=options)"
   ]
  },
  {
   "cell_type": "markdown",
   "id": "73b7abac",
   "metadata": {},
   "source": [
    "### Funções"
   ]
  },
  {
   "cell_type": "code",
   "execution_count": 6,
   "id": "06712b25",
   "metadata": {},
   "outputs": [],
   "source": [
    "def preencher_campo_input(campo_html, campo_excel, lista_excel, index):\n",
    "\n",
    "    \"\"\"\n",
    "    Limpa o campo, e insere a informação nos campos Input, conforme os parametros By.NAME\n",
    "\n",
    "    Parâmetros:\n",
    "        campo_html (str): Nome da tag NAME do HTML.\n",
    "        campo_excel (str): Nome do Campo Excel de acordo com o Campo do HTML.\n",
    "        lista_excel (list): Lista com o for para percorrer o arquivo Excel.\n",
    "        index (int): index de todo o resultado da lista excel.\n",
    "    \"\"\"\n",
    "    try:\n",
    "        campo = navegador.find_element(By.NAME, campo_html)\n",
    "        campo.clear()\n",
    "\n",
    "        valor = str(lista_excel.loc[index, campo_excel])\n",
    "        campo.send_keys(valor)\n",
    "\n",
    "    except Exception as error:\n",
    "        print(f\"Erro ao preencher o campo '{campo_html}' com valor da coluna '{campo_excel}': {error}\")\n",
    "\n",
    "\n",
    "def preencher_campo_select(campo_html, valor, navegador):\n",
    "\n",
    "    \"\"\"\n",
    "    Limpa o campo, e insere a informação nos campos Select, conforme os parametros By.NAME\n",
    "\n",
    "    Parâmetros:\n",
    "        campo_html (str): Nome da tag NAME do HTML.\n",
    "        valor (str): Nome do campo excel\n",
    "    \"\"\"\n",
    "\n",
    "    try:\n",
    "\n",
    "        select = Select(navegador.find_element(By.NAME, campo_html))\n",
    "        select.select_by_visible_text(valor)\n",
    "\n",
    "    except Exception as error:\n",
    "        print(f\"Erro ao selecionar o {valor} no campo {campo_html}: {error}\")"
   ]
  },
  {
   "cell_type": "markdown",
   "id": "c4c620fd",
   "metadata": {},
   "source": [
    "### Abrindo o site"
   ]
  },
  {
   "cell_type": "code",
   "execution_count": 7,
   "id": "80f64663",
   "metadata": {},
   "outputs": [],
   "source": [
    "caminho_site = r\"C:\\fakepath\\cadastroWeb-notas-Automacao\\html\"\n",
    "\n",
    "site = \"login.html\"\n",
    "\n",
    "navegador.get(os.path.join(caminho_site, site))"
   ]
  },
  {
   "cell_type": "markdown",
   "id": "a0cf3c2f",
   "metadata": {},
   "source": [
    "### Login"
   ]
  },
  {
   "cell_type": "code",
   "execution_count": 10,
   "id": "a898a41e",
   "metadata": {},
   "outputs": [],
   "source": [
    "# Garantia que o site vai carregar\n",
    "time.sleep(2)\n",
    "\n",
    "# Fazendo login\n",
    "navegador.find_element(By.XPATH, \"/html/body/div/form/input[1]\").send_keys(\"admin\")\n",
    "navegador.find_element(By.XPATH, \"/html/body/div/form/input[2]\").send_keys(123)\n",
    "\n",
    "navegador.find_element(By.XPATH, \"/html/body/div/form/button\").click()"
   ]
  },
  {
   "cell_type": "markdown",
   "id": "7d28123b",
   "metadata": {},
   "source": [
    "### Buscando valores do Arquivo"
   ]
  },
  {
   "cell_type": "code",
   "execution_count": null,
   "id": "4d8e4d33",
   "metadata": {},
   "outputs": [],
   "source": [
    "caminho_notas = r\"C:\\fakepath\\cadastroWeb-notas-Automacao\\data\"\n",
    "\n",
    "dados_notas_fiscais = \"NotasEmitir.xlsx\"\n",
    "notas_fiscais = pd.read_excel(os.path.join(caminho_notas, dados_notas_fiscais))"
   ]
  },
  {
   "cell_type": "code",
   "execution_count": 13,
   "id": "e22c7bbe",
   "metadata": {},
   "outputs": [
    {
     "data": {
      "text/html": [
       "<div>\n",
       "<style scoped>\n",
       "    .dataframe tbody tr th:only-of-type {\n",
       "        vertical-align: middle;\n",
       "    }\n",
       "\n",
       "    .dataframe tbody tr th {\n",
       "        vertical-align: top;\n",
       "    }\n",
       "\n",
       "    .dataframe thead th {\n",
       "        text-align: right;\n",
       "    }\n",
       "</style>\n",
       "<table border=\"1\" class=\"dataframe\">\n",
       "  <thead>\n",
       "    <tr style=\"text-align: right;\">\n",
       "      <th></th>\n",
       "      <th>Cliente</th>\n",
       "      <th>CPF/CNPJ</th>\n",
       "      <th>CEP</th>\n",
       "      <th>Endereço</th>\n",
       "      <th>Bairro</th>\n",
       "      <th>Municipio</th>\n",
       "      <th>UF</th>\n",
       "      <th>Inscricao Estadual</th>\n",
       "      <th>Descrição</th>\n",
       "      <th>Quantidade</th>\n",
       "      <th>Valor Unitario</th>\n",
       "      <th>Valor Total</th>\n",
       "    </tr>\n",
       "  </thead>\n",
       "  <tbody>\n",
       "    <tr>\n",
       "      <th>0</th>\n",
       "      <td>Valentina Márcia Melissa da Cunha</td>\n",
       "      <td>25379574076</td>\n",
       "      <td>73402036</td>\n",
       "      <td>Módulo Módulo 12</td>\n",
       "      <td>Estância Mestre D'Armas V (Planaltina)</td>\n",
       "      <td>Brasília</td>\n",
       "      <td>DF</td>\n",
       "      <td>213873</td>\n",
       "      <td>Nota referente aos serviços prestados/produtos...</td>\n",
       "      <td>3</td>\n",
       "      <td>273</td>\n",
       "      <td>819</td>\n",
       "    </tr>\n",
       "    <tr>\n",
       "      <th>1</th>\n",
       "      <td>Lara Benedita Josefa Drumond</td>\n",
       "      <td>30227643160</td>\n",
       "      <td>78730170</td>\n",
       "      <td>Avenida Manoel de Araújo Piau</td>\n",
       "      <td>Jardim Belo Panorama</td>\n",
       "      <td>Rondonópolis</td>\n",
       "      <td>MT</td>\n",
       "      <td>194139</td>\n",
       "      <td>Nota referente aos serviços prestados/produtos...</td>\n",
       "      <td>6</td>\n",
       "      <td>730</td>\n",
       "      <td>4380</td>\n",
       "    </tr>\n",
       "    <tr>\n",
       "      <th>2</th>\n",
       "      <td>Silvana Melissa da Paz</td>\n",
       "      <td>36636402806</td>\n",
       "      <td>69308220</td>\n",
       "      <td>Rua Madre Rosa</td>\n",
       "      <td>Treze de Setembro</td>\n",
       "      <td>Boa Vista</td>\n",
       "      <td>RR</td>\n",
       "      <td>203703</td>\n",
       "      <td>Nota referente aos serviços prestados/produtos...</td>\n",
       "      <td>2</td>\n",
       "      <td>389</td>\n",
       "      <td>778</td>\n",
       "    </tr>\n",
       "  </tbody>\n",
       "</table>\n",
       "</div>"
      ],
      "text/plain": [
       "                             Cliente     CPF/CNPJ       CEP  \\\n",
       "0  Valentina Márcia Melissa da Cunha  25379574076  73402036   \n",
       "1       Lara Benedita Josefa Drumond  30227643160  78730170   \n",
       "2             Silvana Melissa da Paz  36636402806  69308220   \n",
       "\n",
       "                        Endereço                                  Bairro  \\\n",
       "0               Módulo Módulo 12  Estância Mestre D'Armas V (Planaltina)   \n",
       "1  Avenida Manoel de Araújo Piau                    Jardim Belo Panorama   \n",
       "2                 Rua Madre Rosa                       Treze de Setembro   \n",
       "\n",
       "      Municipio  UF  Inscricao Estadual  \\\n",
       "0      Brasília  DF              213873   \n",
       "1  Rondonópolis  MT              194139   \n",
       "2     Boa Vista  RR              203703   \n",
       "\n",
       "                                           Descrição  Quantidade  \\\n",
       "0  Nota referente aos serviços prestados/produtos...           3   \n",
       "1  Nota referente aos serviços prestados/produtos...           6   \n",
       "2  Nota referente aos serviços prestados/produtos...           2   \n",
       "\n",
       "   Valor Unitario  Valor Total  \n",
       "0             273          819  \n",
       "1             730         4380  \n",
       "2             389          778  "
      ]
     },
     "execution_count": 13,
     "metadata": {},
     "output_type": "execute_result"
    }
   ],
   "source": [
    "notas_fiscais.head(3)"
   ]
  },
  {
   "cell_type": "markdown",
   "id": "c5f4aad9",
   "metadata": {},
   "source": [
    "Cliente\tCPF/CNPJ\tCEP\tEndereço\tBairro\tMunicipio\tUF\tInscricao Estadual\tDescrição\tQuantidade\tValor Unitario\tValor Total"
   ]
  },
  {
   "cell_type": "markdown",
   "id": "eec774b0",
   "metadata": {},
   "source": [
    "### Automação"
   ]
  },
  {
   "cell_type": "code",
   "execution_count": 12,
   "id": "e6f021f7",
   "metadata": {},
   "outputs": [],
   "source": [
    "for index in notas_fiscais.index:\n",
    "    \n",
    "    preencher_campo_input(\"nome\", \"Cliente\", notas_fiscais, index)\n",
    "    preencher_campo_input(\"endereco\", \"Endereço\", notas_fiscais, index)\n",
    "    preencher_campo_input(\"bairro\", \"Bairro\", notas_fiscais, index)\n",
    "    preencher_campo_input(\"municipio\", \"Municipio\", notas_fiscais, index)\n",
    "    preencher_campo_input(\"cep\", \"CEP\", notas_fiscais, index)\n",
    "    preencher_campo_select(\"uf\", notas_fiscais.loc[index, \"UF\"], navegador)\n",
    "    preencher_campo_input(\"cnpj\", \"CPF/CNPJ\", notas_fiscais, index)\n",
    "    preencher_campo_input(\"inscricao\", \"Inscricao Estadual\", notas_fiscais, index)\n",
    "    preencher_campo_input(\"descricao\", \"Descrição\", notas_fiscais, index)\n",
    "    preencher_campo_input(\"quantidade\", \"Quantidade\", notas_fiscais, index)\n",
    "    preencher_campo_input(\"valor_unitario\", \"Valor Unitario\", notas_fiscais, index)\n",
    "    preencher_campo_input(\"total\", \"Valor Total\", notas_fiscais, index)\n",
    "\n",
    "    navegador.find_element(By.XPATH, '//*[@id=\"formulario\"]/button').click()\n",
    "    \n"
   ]
  }
 ],
 "metadata": {
  "kernelspec": {
   "display_name": "Python 3",
   "language": "python",
   "name": "python3"
  },
  "language_info": {
   "codemirror_mode": {
    "name": "ipython",
    "version": 3
   },
   "file_extension": ".py",
   "mimetype": "text/x-python",
   "name": "python",
   "nbconvert_exporter": "python",
   "pygments_lexer": "ipython3",
   "version": "3.13.2"
  }
 },
 "nbformat": 4,
 "nbformat_minor": 5
}
